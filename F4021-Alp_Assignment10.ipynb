{
  "nbformat": 4,
  "nbformat_minor": 0,
  "metadata": {
    "colab": {
      "provenance": [],
      "authorship_tag": "ABX9TyPakE94Jqy4f0yqQvY+nBHx",
      "include_colab_link": true
    },
    "kernelspec": {
      "name": "python3",
      "display_name": "Python 3"
    },
    "language_info": {
      "name": "python"
    }
  },
  "cells": [
    {
      "cell_type": "markdown",
      "metadata": {
        "id": "view-in-github",
        "colab_type": "text"
      },
      "source": [
        "<a href=\"https://colab.research.google.com/github/F4021cway/datascience/blob/assignments/F4021-Alp_Assignment10.ipynb\" target=\"_parent\"><img src=\"https://colab.research.google.com/assets/colab-badge.svg\" alt=\"Open In Colab\"/></a>"
      ]
    },
    {
      "cell_type": "code",
      "execution_count": 1,
      "metadata": {
        "colab": {
          "base_uri": "https://localhost:8080/"
        },
        "id": "oFIhGQUYBlgI",
        "outputId": "687fef62-73bc-4ffd-aeb3-4b5aaf8bfc79"
      },
      "outputs": [
        {
          "output_type": "stream",
          "name": "stdout",
          "text": [
            "Are you a cigarette addict older than 75 years old?: yes\n",
            "Do you have a severe chronic disease?: no\n",
            "Is your immune system too weak?: no\n",
            "You are in the risky group.\n"
          ]
        }
      ],
      "source": [
        "age= input(\"Are you a cigarette addict older than 75 years old?: \").lower()\n",
        "chronic= input(\"Do you have a severe chronic disease?: \").lower()\n",
        "immune= input(\"Is your immune system too weak?: \").lower()\n",
        "\n",
        "tuple1= (age, chronic, immune)\n",
        "\n",
        "if \"yes\" in tuple1:\n",
        "  print(\"You are in the risky group.\")\n",
        "\n",
        "if \"yes\" not in tuple1:\n",
        "  print(\"You are not in the risky group.\")"
      ]
    }
  ]
}