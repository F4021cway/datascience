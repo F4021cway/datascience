{
  "nbformat": 4,
  "nbformat_minor": 0,
  "metadata": {
    "colab": {
      "provenance": [],
      "collapsed_sections": [],
      "authorship_tag": "ABX9TyOdSEZE9d7AjbvLsoxVa7xJ",
      "include_colab_link": true
    },
    "kernelspec": {
      "name": "python3",
      "display_name": "Python 3"
    },
    "language_info": {
      "name": "python"
    }
  },
  "cells": [
    {
      "cell_type": "markdown",
      "metadata": {
        "id": "view-in-github",
        "colab_type": "text"
      },
      "source": [
        "<a href=\"https://colab.research.google.com/github/F4021cway/datascience/blob/assignments/F4021-Alp_assignment15.ipynb\" target=\"_parent\"><img src=\"https://colab.research.google.com/assets/colab-badge.svg\" alt=\"Open In Colab\"/></a>"
      ]
    },
    {
      "cell_type": "code",
      "source": [
        "L=[]\n",
        "K=int(input(\"Please enter a number which is positive and an integer: \"))\n",
        "for x in range(2,K):\n",
        "  for y in range(2, int(x)-1):\n",
        "    if (x%y) == 0:\n",
        "      L.append(x)\n",
        "print(set(range(2,K)).difference(set(L)))\n"
      ],
      "metadata": {
        "colab": {
          "base_uri": "https://localhost:8080/"
        },
        "id": "JY7pb8DD3VrV",
        "outputId": "c0302e9d-c0ca-4367-e173-f2c3a60a5251"
      },
      "execution_count": 64,
      "outputs": [
        {
          "output_type": "stream",
          "name": "stdout",
          "text": [
            "Please enter a number which is positive and an integer: 100\n",
            "{2, 3, 5, 7, 11, 13, 17, 19, 23, 29, 31, 37, 41, 43, 47, 53, 59, 61, 67, 71, 73, 79, 83, 89, 97}\n"
          ]
        }
      ]
    }
  ]
}