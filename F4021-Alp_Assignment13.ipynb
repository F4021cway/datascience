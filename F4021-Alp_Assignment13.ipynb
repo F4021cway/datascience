{
  "nbformat": 4,
  "nbformat_minor": 0,
  "metadata": {
    "colab": {
      "provenance": [],
      "collapsed_sections": [],
      "authorship_tag": "ABX9TyPiumVptIX5idJjiBtWY/8B",
      "include_colab_link": true
    },
    "kernelspec": {
      "name": "python3",
      "display_name": "Python 3"
    },
    "language_info": {
      "name": "python"
    }
  },
  "cells": [
    {
      "cell_type": "markdown",
      "metadata": {
        "id": "view-in-github",
        "colab_type": "text"
      },
      "source": [
        "<a href=\"https://colab.research.google.com/github/F4021cway/datascience/blob/assignments/F4021-Alp_Assignment13.ipynb\" target=\"_parent\"><img src=\"https://colab.research.google.com/assets/colab-badge.svg\" alt=\"Open In Colab\"/></a>"
      ]
    },
    {
      "cell_type": "markdown",
      "source": [
        "**F4021-Alp Assignment-13**"
      ],
      "metadata": {
        "id": "RV_1LhrbPet3"
      }
    },
    {
      "cell_type": "code",
      "execution_count": 42,
      "metadata": {
        "colab": {
          "base_uri": "https://localhost:8080/"
        },
        "id": "BXDKjvC2CySM",
        "outputId": "f7554b6b-74ce-4c86-ac2c-ffb5745f6d21"
      },
      "outputs": [
        {
          "output_type": "stream",
          "name": "stdout",
          "text": [
            "Please enter a positive integer other than '1': 12\n",
            "12 is NOT a prime number.\n"
          ]
        }
      ],
      "source": [
        "sayi= input(\"Please enter a positive integer other than '1': \")\n",
        "while sayi.isdigit() and int(sayi)>1:\n",
        "  b=[]\n",
        "  for x in range(2, int(sayi)): b.append(int(sayi)%x)\n",
        "  print(f\"{sayi} is NOT a prime number.\") if 0 in b else print(f\"{sayi} is a prime number.\")\n",
        "  break"
      ]
    }
  ]
}