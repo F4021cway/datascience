{
  "nbformat": 4,
  "nbformat_minor": 0,
  "metadata": {
    "colab": {
      "provenance": [],
      "collapsed_sections": [],
      "authorship_tag": "ABX9TyNFmq0w5Fy7BTlE/rvU618q",
      "include_colab_link": true
    },
    "kernelspec": {
      "name": "python3",
      "display_name": "Python 3"
    },
    "language_info": {
      "name": "python"
    }
  },
  "cells": [
    {
      "cell_type": "markdown",
      "metadata": {
        "id": "view-in-github",
        "colab_type": "text"
      },
      "source": [
        "<a href=\"https://colab.research.google.com/github/F4021cway/datascience/blob/main/F4021-Alp_Assignment_9.ipynb\" target=\"_parent\"><img src=\"https://colab.research.google.com/assets/colab-badge.svg\" alt=\"Open In Colab\"/></a>"
      ]
    },
    {
      "cell_type": "code",
      "execution_count": 10,
      "metadata": {
        "id": "ODzmJo7eP5lm",
        "colab": {
          "base_uri": "https://localhost:8080/"
        },
        "outputId": "7737a695-6bfa-4b30-ec5b-82d3da257572"
      },
      "outputs": [
        {
          "output_type": "stream",
          "name": "stdout",
          "text": [
            "Please enter your username: Alp\n",
            "Hello Alp! See you later.\n"
          ]
        }
      ],
      "source": [
        "nameandpassword= {\"name1\": \"joseph\", \"password\": \"\"\"W@12\",\"\"\"}\n",
        "\n",
        "entered_name=input(\"Please enter your username: \").lower()\n",
        "\n",
        "if entered_name == nameandpassword[\"name1\"]: \n",
        "  print(f\"Hello {(entered_name).title()}! The password is {nameandpassword['password']}\") \n",
        "else:\n",
        "  print(f\"Hello {(entered_name).title()}! See you later.\")"
      ]
    }
  ]
}