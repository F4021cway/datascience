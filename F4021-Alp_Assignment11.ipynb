{
  "nbformat": 4,
  "nbformat_minor": 0,
  "metadata": {
    "colab": {
      "provenance": [],
      "authorship_tag": "ABX9TyNMsFo4fuQds9LnH6rRK/5/"
    },
    "kernelspec": {
      "name": "python3",
      "display_name": "Python 3"
    },
    "language_info": {
      "name": "python"
    }
  },
  "cells": [
    {
      "cell_type": "code",
      "source": [
        "year_value= int(input(\"Please enter a year value: \"))\n",
        "\n",
        "if int(year_value)%400 is 0: print(f\"'{year_value}' is a leap year.\")\n",
        "else: print(f\"'{year_value}' is not a leap year.\")"
      ],
      "metadata": {
        "colab": {
          "base_uri": "https://localhost:8080/"
        },
        "id": "2w9gcrzBve9s",
        "outputId": "de5f52ab-d2ae-4ee3-9212-794cc75461f0"
      },
      "execution_count": 19,
      "outputs": [
        {
          "output_type": "stream",
          "name": "stdout",
          "text": [
            "Please enter a year value: 9000\n",
            "'9000' is not a leap year.\n"
          ]
        }
      ]
    }
  ]
}