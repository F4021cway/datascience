{
  "nbformat": 4,
  "nbformat_minor": 0,
  "metadata": {
    "colab": {
      "provenance": [],
      "collapsed_sections": [],
      "authorship_tag": "ABX9TyNKsc3aGnNLFfybnMSw3R3Z",
      "include_colab_link": true
    },
    "kernelspec": {
      "name": "python3",
      "display_name": "Python 3"
    },
    "language_info": {
      "name": "python"
    }
  },
  "cells": [
    {
      "cell_type": "markdown",
      "metadata": {
        "id": "view-in-github",
        "colab_type": "text"
      },
      "source": [
        "<a href=\"https://colab.research.google.com/github/F4021cway/datascience/blob/assignments/F4021-Alp_Assignment12.ipynb\" target=\"_parent\"><img src=\"https://colab.research.google.com/assets/colab-badge.svg\" alt=\"Open In Colab\"/></a>"
      ]
    },
    {
      "cell_type": "code",
      "source": [
        "a=input(\"Please enter a number: \")\n",
        "\n",
        "while a.isdigit() and int(a)>0:\n",
        "\n",
        "  t=0\n",
        "  for y in list(a): t += int(y)**(len(list(a)))\n",
        "\n",
        "  print(f\"{a} is a n-Armstrong number.\") if int(a)==t else print(f\"{a} is NOT a n-Armstrong number. Try again.\")\n",
        "  break\n",
        "  \n",
        "else: print(\"Please enter a positive integer value.\")"
      ],
      "metadata": {
        "id": "cr3uTe5AbJ8p"
      },
      "execution_count": null,
      "outputs": []
    }
  ]
}