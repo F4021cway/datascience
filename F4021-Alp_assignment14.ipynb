{
  "nbformat": 4,
  "nbformat_minor": 0,
  "metadata": {
    "colab": {
      "provenance": [],
      "collapsed_sections": [],
      "authorship_tag": "ABX9TyNIr16J9CfNMlMbCd06JzGY",
      "include_colab_link": true
    },
    "kernelspec": {
      "name": "python3",
      "display_name": "Python 3"
    },
    "language_info": {
      "name": "python"
    }
  },
  "cells": [
    {
      "cell_type": "markdown",
      "metadata": {
        "id": "view-in-github",
        "colab_type": "text"
      },
      "source": [
        "<a href=\"https://colab.research.google.com/github/F4021cway/datascience/blob/assignments/F4021-Alp_assignment14.ipynb\" target=\"_parent\"><img src=\"https://colab.research.google.com/assets/colab-badge.svg\" alt=\"Open In Colab\"/></a>"
      ]
    },
    {
      "cell_type": "code",
      "execution_count": 6,
      "metadata": {
        "id": "lGdXIrYRYyaC",
        "colab": {
          "base_uri": "https://localhost:8080/"
        },
        "outputId": "6ac71cca-2f8d-4710-89f5-2aeedb40115e"
      },
      "outputs": [
        {
          "output_type": "stream",
          "name": "stdout",
          "text": [
            "[1, 1, 2, 3, 5, 8, 13, 21, 34, 55]\n"
          ]
        }
      ],
      "source": [
        "fibo=[1,1]\n",
        "sum=0\n",
        "for x in fibo:\n",
        "  sum +=x\n",
        "  fibo.append(sum)\n",
        "  if 55 in fibo: break\n",
        "fibo.pop(0)\n",
        "print(fibo)"
      ]
    }
  ]
}