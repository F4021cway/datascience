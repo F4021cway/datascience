{
  "nbformat": 4,
  "nbformat_minor": 0,
  "metadata": {
    "colab": {
      "provenance": [],
      "authorship_tag": "ABX9TyNBwaWaqQT9G4nUywrQo9Az",
      "include_colab_link": true
    },
    "kernelspec": {
      "name": "python3",
      "display_name": "Python 3"
    },
    "language_info": {
      "name": "python"
    }
  },
  "cells": [
    {
      "cell_type": "markdown",
      "metadata": {
        "id": "view-in-github",
        "colab_type": "text"
      },
      "source": [
        "<a href=\"https://colab.research.google.com/github/F4021cway/datascience/blob/assignments/F4021-Alp_assignment17.ipynb\" target=\"_parent\"><img src=\"https://colab.research.google.com/assets/colab-badge.svg\" alt=\"Open In Colab\"/></a>"
      ]
    },
    {
      "cell_type": "code",
      "execution_count": 23,
      "metadata": {
        "colab": {
          "base_uri": "https://localhost:8080/"
        },
        "id": "FgHrHY_Z84qq",
        "outputId": "62554a87-5ef4-4140-c5e4-a32a4c63db96"
      },
      "outputs": [
        {
          "output_type": "stream",
          "name": "stdout",
          "text": [
            "Enter a sentence: ali ata bak\n",
            "{'b': 1, 'i': 1, 'k': 1, 'a': 4, 'l': 1, 't': 1, ' ': 2}\n"
          ]
        }
      ],
      "source": [
        "c=input(\"Enter a sentence: \")\n",
        "d={}\n",
        "for x in set(c):\n",
        "  d.update({x: list(c).count(x)})\n",
        "print(d)\n"
      ]
    }
  ]
}